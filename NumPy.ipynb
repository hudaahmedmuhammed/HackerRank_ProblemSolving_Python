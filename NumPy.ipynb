{
 "cells": [
  {
   "cell_type": "markdown",
   "metadata": {},
   "source": [
    "# 1- Arrays"
   ]
  },
  {
   "cell_type": "markdown",
   "metadata": {},
   "source": [
    "### Description"
   ]
  },
  {
   "cell_type": "markdown",
   "metadata": {},
   "source": [
    "__Task__\n",
    "\n",
    "- You are given a space separated list of numbers.\n",
    "- Your task is to print a reversed NumPy array with the element type float.\n",
    "\n",
    "__Input Format__\n",
    "\n",
    "- A single line of input containing space separated numbers.\n",
    "\n",
    "__Output Format__\n",
    "\n",
    "- Print the reverse NumPy array with type float.\n",
    "\n",
    "__Sample Input__\n",
    "\n",
    "- 1 2 3 4 -8 -10\n",
    "\n",
    "__Sample Output__\n",
    "\n",
    "- [-10.  -8.   4.   3.   2.   1.]"
   ]
  },
  {
   "cell_type": "markdown",
   "metadata": {},
   "source": [
    "### Solution"
   ]
  },
  {
   "cell_type": "code",
   "execution_count": 1,
   "metadata": {},
   "outputs": [
    {
     "name": "stdout",
     "output_type": "stream",
     "text": [
      "1 2 3 4 -8 -10\n",
      "[-10.  -8.   4.   3.   2.   1.]\n"
     ]
    }
   ],
   "source": [
    "import numpy as np\n",
    "def arrays(arr):\n",
    "    re_arr = np.array(arr[::-1], float)\n",
    "    return re_arr\n",
    "arr = input().strip().split()\n",
    "result = arrays(arr)\n",
    "print(result)"
   ]
  },
  {
   "cell_type": "markdown",
   "metadata": {},
   "source": [
    "# 2- Shape and Reshape"
   ]
  },
  {
   "cell_type": "markdown",
   "metadata": {},
   "source": [
    "### Description"
   ]
  },
  {
   "cell_type": "markdown",
   "metadata": {},
   "source": [
    "__Task__\n",
    "\n",
    "- You are given a space separated list of nine integers. Your task is to convert this list into a __3 X 3__ NumPy array.\n",
    "\n",
    "__Input Format__\n",
    "\n",
    "- A single line of input containing __9__ space separated integers.\n",
    "\n",
    "__Output Format__\n",
    "\n",
    "- Print the __3 X 3__ NumPy array.\n",
    "\n",
    "__Sample Input__\n",
    "\n",
    "- 1 2 3 4 5 6 7 8 9\n",
    "\n",
    "__Sample Output__\n",
    "\n",
    "- [[1 2 3]\n",
    "  [4 5 6]\n",
    "  [7 8 9]]"
   ]
  },
  {
   "cell_type": "markdown",
   "metadata": {},
   "source": [
    "# 3- Transpose and Flatten"
   ]
  },
  {
   "cell_type": "markdown",
   "metadata": {},
   "source": [
    "### Description"
   ]
  },
  {
   "cell_type": "markdown",
   "metadata": {},
   "source": [
    "__Task__\n",
    "\n",
    "- You are given a __N X M__ integer array matrix with space separated elements (__N__ = rows and __M__ = columns).\n",
    "- Your task is to print the transpose and flatten results.\n",
    "\n",
    "__Input Format__\n",
    "\n",
    "- The first line contains the space separated values of __N__ and __M__.\n",
    "- The next __N__ lines contains the space separated elements of __M__ columns.\n",
    "\n",
    "__Output Format__\n",
    "\n",
    "- First, print the transpose array and then print the flatten.\n",
    "\n",
    "__Sample Input__\n",
    "\n",
    "- 2 2\n",
    "- 1 2\n",
    "- 3 4\n",
    "\n",
    "__Sample Output__\n",
    "\n",
    "- [[1 3]\n",
    "  [2 4]]\n",
    "  [1 2 3 4]"
   ]
  },
  {
   "cell_type": "markdown",
   "metadata": {},
   "source": [
    "### Solution"
   ]
  },
  {
   "cell_type": "code",
   "execution_count": 6,
   "metadata": {},
   "outputs": [
    {
     "name": "stdout",
     "output_type": "stream",
     "text": [
      "2 2\n",
      "1 2\n",
      "3 4\n",
      "[[1 3]\n",
      " [2 4]]\n",
      "[1 2 3 4]\n"
     ]
    }
   ],
   "source": [
    "import numpy as np\n",
    "N, M = map(int, input().split())\n",
    "arr = np.array([input().split() for n in range(N)], int)\n",
    "print(np.transpose(arr))\n",
    "print(arr.flatten())"
   ]
  },
  {
   "cell_type": "markdown",
   "metadata": {},
   "source": [
    "# 4- Concatenate"
   ]
  },
  {
   "cell_type": "markdown",
   "metadata": {},
   "source": [
    "### Description"
   ]
  },
  {
   "cell_type": "markdown",
   "metadata": {},
   "source": [
    "__Task__\n",
    "\n",
    "- You are given two integer arrays of size __N x P__ and __M x P__ (__N__ & __M__  are rows, and __P__ is the column). Your task is to concatenate the arrays along axis .\n",
    "\n",
    "__Input Format__\n",
    "\n",
    "- The first line contains space separated integers __N__, __M__ and __P__.\n",
    "- The next __N__ lines contains the space separated elements of the __P__ columns.\n",
    "- After that, the next __M__ lines contains the space separated elements of the __P__ columns.\n",
    "\n",
    "__Output Format__\n",
    "\n",
    "- Print the concatenated array of size __(N + M) x P__.\n",
    "\n",
    "__Sample Input__\n",
    "\n",
    "- 4 3 2\n",
    "- 1 2\n",
    "- 1 2 \n",
    "- 1 2\n",
    "- 1 2\n",
    "- 3 4\n",
    "- 3 4\n",
    "- 3 4 \n",
    "\n",
    "__Sample Output__\n",
    "\n",
    "- [[1 2]\n",
    " [1 2]\n",
    " [1 2]\n",
    " [1 2]\n",
    " [3 4]\n",
    " [3 4]\n",
    " [3 4]] "
   ]
  },
  {
   "cell_type": "markdown",
   "metadata": {},
   "source": [
    "### Solution"
   ]
  },
  {
   "cell_type": "code",
   "execution_count": 10,
   "metadata": {},
   "outputs": [
    {
     "name": "stdout",
     "output_type": "stream",
     "text": [
      "4 3 2\n",
      "1 2\n",
      "1 2\n",
      "1 2\n",
      "1 2\n",
      "3 4\n",
      "3 4\n",
      "3 4\n",
      "[[1 2]\n",
      " [1 2]\n",
      " [1 2]\n",
      " [1 2]\n",
      " [3 4]\n",
      " [3 4]\n",
      " [3 4]]\n"
     ]
    }
   ],
   "source": [
    "import numpy as np\n",
    "N, M, P = map(int, input().split())\n",
    "arr1 = np.array([input().split() for n in range(N)], int)\n",
    "arr2 = np.array([input().split() for m in range(M)], int)\n",
    "print(np.concatenate((arr1, arr2), axis=0))"
   ]
  },
  {
   "cell_type": "code",
   "execution_count": null,
   "metadata": {},
   "outputs": [],
   "source": []
  }
 ],
 "metadata": {
  "kernelspec": {
   "display_name": "Python 3",
   "language": "python",
   "name": "python3"
  },
  "language_info": {
   "codemirror_mode": {
    "name": "ipython",
    "version": 3
   },
   "file_extension": ".py",
   "mimetype": "text/x-python",
   "name": "python",
   "nbconvert_exporter": "python",
   "pygments_lexer": "ipython3",
   "version": "3.8.5"
  }
 },
 "nbformat": 4,
 "nbformat_minor": 4
}
