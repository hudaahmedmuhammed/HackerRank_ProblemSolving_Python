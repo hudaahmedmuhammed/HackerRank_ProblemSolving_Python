{
 "cells": [
  {
   "cell_type": "markdown",
   "metadata": {},
   "source": [
    "# 1- Say \"Hello, World!\" With Python"
   ]
  },
  {
   "cell_type": "markdown",
   "metadata": {},
   "source": [
    "### Description "
   ]
  },
  {
   "cell_type": "markdown",
   "metadata": {},
   "source": [
    "__Here is a sample line of code that can be executed in Python:__\n",
    "\n",
    "- print(\"Hello, World!\")\n",
    "\n",
    "__You can just as easily store a string as a variable and then print it to stdout:__\n",
    "\n",
    "- my_string = \"Hello, World!\"\n",
    "- print(my_string)\n",
    "\n",
    "The above code will print __Hello, World!__ on your screen. Try it yourself in the editor below!\n",
    "\n",
    "__Input Format__\n",
    "\n",
    "- You do not need to read any input in this challenge.\n",
    "\n",
    "__Output Format__\n",
    "\n",
    "- Print Hello, World! to stdout.\n",
    "\n",
    "__Sample Output__\n",
    "\n",
    "- Hello, World!"
   ]
  },
  {
   "cell_type": "markdown",
   "metadata": {},
   "source": [
    "### Solution"
   ]
  },
  {
   "cell_type": "code",
   "execution_count": 2,
   "metadata": {},
   "outputs": [
    {
     "name": "stdout",
     "output_type": "stream",
     "text": [
      "Hello, World!\n"
     ]
    }
   ],
   "source": [
    "print(\"Hello, World!\")"
   ]
  },
  {
   "cell_type": "markdown",
   "metadata": {},
   "source": [
    "# 2- Python If-Else"
   ]
  },
  {
   "cell_type": "markdown",
   "metadata": {},
   "source": [
    "### Description"
   ]
  },
  {
   "cell_type": "markdown",
   "metadata": {},
   "source": [
    "__Task__\n",
    "\n",
    "- Given an integer,n,perform the following conditional actions:\n",
    "- If n is odd, print Weird\n",
    "- If n is even and in the inclusive range of 2 to 5, print Not Weird\n",
    "- If n is even and in the inclusive range of 6 to 20, print Weird\n",
    "- If n is even and greater than 20 , print Not Weird\n",
    "\n",
    "__Input Format__\n",
    "\n",
    "- A single line containing a positive integer,n.\n",
    "\n",
    "__Output Format__\n",
    "\n",
    "- Print \"Weird\" if the number is weird. Otherwise, print \"Not Weird\".\n",
    "\n",
    "__Sample Input 0__\n",
    "\n",
    "- 3\n",
    "\n",
    "__Sample Output 0__\n",
    "\n",
    "- Weird\n",
    "\n",
    "__Explanation 0__\n",
    "\n",
    "- n = 3\n",
    "- n is odd and odd numbers are weird, so print \"Weird\".\n",
    "\n",
    "__Sample Input 1__\n",
    "\n",
    "- 24\n",
    "\n",
    "__Sample Output 1__\n",
    "\n",
    "- Not Weird\n",
    "\n",
    "__Explanation 1__\n",
    "\n",
    "- n = 24\n",
    "- n and is even, so it is \"not weird\"."
   ]
  },
  {
   "cell_type": "markdown",
   "metadata": {},
   "source": [
    "### Solution "
   ]
  },
  {
   "cell_type": "code",
   "execution_count": 3,
   "metadata": {},
   "outputs": [
    {
     "name": "stdout",
     "output_type": "stream",
     "text": [
      "3\n",
      "Weird\n"
     ]
    }
   ],
   "source": [
    "n = int(input())\n",
    "if n % 2 == 0 and 2 <= n <= 5:\n",
    "    print(\"Not Weird\")\n",
    "elif n % 2 == 0 and 6 <= n <= 20:\n",
    "    print(\"Weird\")\n",
    "elif n % 2 == 0 and n > 20:\n",
    "    print(\"Not Weird\")\n",
    "else:\n",
    "    print(\"Weird\")"
   ]
  },
  {
   "cell_type": "markdown",
   "metadata": {},
   "source": [
    "# 3- Arithmetic Operators"
   ]
  },
  {
   "cell_type": "markdown",
   "metadata": {},
   "source": [
    "### Description"
   ]
  },
  {
   "cell_type": "markdown",
   "metadata": {},
   "source": [
    "__Task__\n",
    "\n",
    "- The provided code stub reads two integers from STDIN, a and b. Add code to print three lines where\n",
    "- The first line contains the sum of the two numbers.\n",
    "- The second line contains the difference of the two numbers (first - second).\n",
    "- The third line contains the product of the two numbers.\n",
    "    \n",
    "__Example__\n",
    "\n",
    "- a = 3\n",
    "- b = 5\n",
    "\n",
    "__Print the following:__\n",
    "\n",
    "- 8\n",
    "- -2\n",
    "- 15\n",
    "\n",
    "__Input Format__\n",
    "\n",
    "- The first line contains the first integer,a.\n",
    "- The second line contains the second integer,b.\n",
    "\n",
    "__Constraints__\n",
    "\n",
    "- 1 <= a <= 10^10\n",
    "- 1 <= b <= 10^10\n",
    "\n",
    "\n",
    "__Output Format__\n",
    "\n",
    "- Print the three lines as explained above.\n",
    "\n",
    "__Sample Input 0__\n",
    "\n",
    "- 3\n",
    "- 2\n",
    "\n",
    "__Sample Output 0__\n",
    "\n",
    "- 5\n",
    "- 1\n",
    "- 6\n",
    "\n",
    "__Explanation 0__\n",
    "\n",
    "- 3 + 2 = 5\n",
    "- 3 - 2 = 1\n",
    "- 3 * 2 = 6"
   ]
  },
  {
   "cell_type": "markdown",
   "metadata": {},
   "source": [
    "### Solution "
   ]
  },
  {
   "cell_type": "code",
   "execution_count": 6,
   "metadata": {},
   "outputs": [
    {
     "name": "stdout",
     "output_type": "stream",
     "text": [
      "15\n",
      "2\n",
      "17\n",
      "13\n",
      "30\n"
     ]
    }
   ],
   "source": [
    "a = int(input())\n",
    "b = int(input())\n",
    "print(a + b)\n",
    "print(a - b)\n",
    "print(a * b)"
   ]
  },
  {
   "cell_type": "markdown",
   "metadata": {},
   "source": [
    "# 4- Python: Division"
   ]
  },
  {
   "cell_type": "markdown",
   "metadata": {},
   "source": [
    "### Description"
   ]
  },
  {
   "cell_type": "markdown",
   "metadata": {},
   "source": [
    "__Task__\n",
    "\n",
    "- The provided code stub reads two integers, a and b , from STDIN.\n",
    "- Add logic to print two lines. The first line should contain the result of integer division,\n",
    "- a // b . The second line should contain the result of float division, a/b.\n",
    "- No rounding or formatting is necessary.\n",
    "\n",
    "__Example__\n",
    "\n",
    "- a = 3\n",
    "- b = 5\n",
    "- The result of the integer division 3 // 5 = 0.\n",
    "- The result of the float division is 3 / 5 = 0.6.\n",
    "\n",
    "__Print:__\n",
    "\n",
    "- 0\n",
    "- 0.6\n",
    "\n",
    "__Input Format__\n",
    "\n",
    "- The first line contains the first integer,a.\n",
    "- The second line contains the second integer,b.\n",
    "\n",
    "__Output Format__\n",
    "\n",
    "- Print the two lines as described above.\n",
    "\n",
    "__Sample Input 0__\n",
    "\n",
    "- 4\n",
    "- 3\n",
    "\n",
    "__Sample Output 0__\n",
    "\n",
    "- 1\n",
    "- 1.33333333333\n"
   ]
  },
  {
   "cell_type": "markdown",
   "metadata": {},
   "source": [
    "### Solution"
   ]
  },
  {
   "cell_type": "code",
   "execution_count": 8,
   "metadata": {},
   "outputs": [
    {
     "name": "stdout",
     "output_type": "stream",
     "text": [
      "4\n",
      "3\n",
      "1\n",
      "1.3333333333333333\n"
     ]
    }
   ],
   "source": [
    "a = int(input())\n",
    "b = int(input())\n",
    "print(a // b)\n",
    "print(a / b)"
   ]
  },
  {
   "cell_type": "markdown",
   "metadata": {},
   "source": [
    "# 5- Loops"
   ]
  },
  {
   "cell_type": "markdown",
   "metadata": {},
   "source": [
    "### Description"
   ]
  },
  {
   "cell_type": "markdown",
   "metadata": {},
   "source": [
    "__Task__\n",
    "\n",
    "- The provided code stub reads and integer,n , from STDIN. For all non-negative integers i < n, print i^2.\n",
    "\n",
    "__Example__\n",
    "\n",
    "- n = 3\n",
    "- The list of non-negative integers that are less than n = 3 is [0, 1, 2] . Print the square of each number on a separate line.\n",
    "- 0\n",
    "- 1\n",
    "- 4\n",
    "\n",
    "__Input Format__\n",
    "\n",
    "- The first and only line contains the integer,n.\n",
    "\n",
    "__Constraints__\n",
    " \n",
    "- 1 <= n <= 20\n",
    "\n",
    "__Output Format__\n",
    "\n",
    "- Print n lines, one corresponding to each i.\n",
    " \n",
    "__Sample Input 0__\n",
    "\n",
    "- 5\n",
    "\n",
    "__Sample Output 0__\n",
    "\n",
    "- 0\n",
    "- 1\n",
    "- 4\n",
    "- 9\n",
    "- 16\n"
   ]
  },
  {
   "cell_type": "markdown",
   "metadata": {},
   "source": [
    "### Solution"
   ]
  },
  {
   "cell_type": "code",
   "execution_count": 9,
   "metadata": {},
   "outputs": [
    {
     "name": "stdout",
     "output_type": "stream",
     "text": [
      "3\n",
      "0\n",
      "1\n",
      "4\n"
     ]
    }
   ],
   "source": [
    "n = int(input())\n",
    "for i in range(n):\n",
    "    print(i ** 2)"
   ]
  },
  {
   "cell_type": "markdown",
   "metadata": {},
   "source": [
    "# 6 - Write a function"
   ]
  },
  {
   "cell_type": "markdown",
   "metadata": {},
   "source": [
    "### Description"
   ]
  },
  {
   "cell_type": "markdown",
   "metadata": {},
   "source": [
    "__Task__\n",
    "\n",
    "- Given a year, determine whether it is a leap year. If it is a leap year, return the Boolean True, otherwise return False.\n",
    "- Note that the code stub provided reads from STDIN and passes arguments to the is_leap function. It is only necessary to complete the is_leap function.\n",
    "\n",
    "__Input Format__\n",
    "\n",
    "- Read , the year to test.\n",
    "\n",
    "__Output Format__\n",
    "\n",
    "- The function must return a Boolean value (True/False). Output is handled by the provided code stub.\n",
    "\n",
    "__Sample Input 0__\n",
    "\n",
    "- 1990\n",
    "\n",
    "__Sample Output 0__\n",
    "\n",
    "- False\n",
    "\n",
    "__Explanation 0__\n",
    "\n",
    "- 1990 is not a multiple of 4 hence it's not a leap year."
   ]
  },
  {
   "cell_type": "code",
   "execution_count": 15,
   "metadata": {},
   "outputs": [
    {
     "data": {
      "text/plain": [
       "False"
      ]
     },
     "execution_count": 15,
     "metadata": {},
     "output_type": "execute_result"
    }
   ],
   "source": [
    "import calendar\n",
    "def is_leap(year):\n",
    "    leap = False\n",
    "    return calendar.isleap(year)\n",
    "is_leap(2005)"
   ]
  },
  {
   "cell_type": "markdown",
   "metadata": {},
   "source": [
    "# 7- Print Function"
   ]
  },
  {
   "cell_type": "markdown",
   "metadata": {},
   "source": [
    "### Description"
   ]
  },
  {
   "cell_type": "markdown",
   "metadata": {},
   "source": [
    "- The included code stub will read an integer,n , from STDIN.\n",
    "__Without using any string methods, try to print the following:__\n",
    "\n",
    "- 123...n\n",
    "- Note that \"...\" represents the consecutive values in between.\n",
    "\n",
    "__Example__\n",
    "\n",
    "- n = 5\n",
    "- Print the string 12345.\n",
    "\n",
    "__Input Format__\n",
    "\n",
    "- The first line contains an integer n.\n",
    "\n",
    "__Constraints__\n",
    "\n",
    "- 1 <= n <= 150\n",
    "\n",
    "__Output Format__\n",
    "\n",
    "- Print the list of integers from 1 through n as a string, without spaces.\n",
    "\n",
    "__Sample Input 0__\n",
    "\n",
    "- 3\n",
    "\n",
    "__Sample Output 0__\n",
    "\n",
    "- 123"
   ]
  },
  {
   "cell_type": "markdown",
   "metadata": {},
   "source": [
    "### Solution"
   ]
  },
  {
   "cell_type": "code",
   "execution_count": 16,
   "metadata": {},
   "outputs": [
    {
     "name": "stdout",
     "output_type": "stream",
     "text": [
      "4\n",
      "1234"
     ]
    }
   ],
   "source": [
    "n = int(input())\n",
    "for i in range(n):\n",
    "    print(i+1, end=\"\")"
   ]
  }
 ],
 "metadata": {
  "kernelspec": {
   "display_name": "Python 3",
   "language": "python",
   "name": "python3"
  },
  "language_info": {
   "codemirror_mode": {
    "name": "ipython",
    "version": 3
   },
   "file_extension": ".py",
   "mimetype": "text/x-python",
   "name": "python",
   "nbconvert_exporter": "python",
   "pygments_lexer": "ipython3",
   "version": "3.8.5"
  }
 },
 "nbformat": 4,
 "nbformat_minor": 4
}
