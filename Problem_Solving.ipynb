{
 "cells": [
  {
   "cell_type": "markdown",
   "metadata": {},
   "source": [
    "# 1- Say \"Hello, World!\" With Python"
   ]
  },
  {
   "cell_type": "markdown",
   "metadata": {},
   "source": [
    "### Description "
   ]
  },
  {
   "cell_type": "markdown",
   "metadata": {},
   "source": [
    "Here is a sample line of code that can be executed in Python:\n",
    "\n",
    "print(\"Hello, World!\")\n",
    "\n",
    "You can just as easily store a string as a variable and then print it to stdout:\n",
    "\n",
    "my_string = \"Hello, World!\"\n",
    "print(my_string)\n",
    "\n",
    "The above code will print Hello, World! on your screen. Try it yourself in the editor below!\n",
    "\n",
    "- Input Format\n",
    "\n",
    "You do not need to read any input in this challenge.\n",
    "\n",
    "- Output Format\n",
    "\n",
    "Print Hello, World! to stdout.\n",
    "\n",
    "- Sample Output 0\n",
    "\n",
    "## Hello, World!\n",
    "\n"
   ]
  },
  {
   "cell_type": "markdown",
   "metadata": {},
   "source": [
    "### Solution "
   ]
  },
  {
   "cell_type": "code",
   "execution_count": 1,
   "metadata": {},
   "outputs": [
    {
     "name": "stdout",
     "output_type": "stream",
     "text": [
      "Hello, World!\n"
     ]
    }
   ],
   "source": [
    "print(\"Hello, World!\")"
   ]
  },
  {
   "cell_type": "markdown",
   "metadata": {},
   "source": [
    "# 2- Python If-Else"
   ]
  },
  {
   "cell_type": "markdown",
   "metadata": {},
   "source": [
    "### Description"
   ]
  },
  {
   "cell_type": "markdown",
   "metadata": {},
   "source": [
    "- Task\n",
    "\n",
    "Given an integer,n,perform the following conditional actions:\n",
    "\n",
    "If n is odd, print Weird\n",
    "\n",
    "If n is even and in the inclusive range of 2 to 5, print Not Weird\n",
    "\n",
    "If n is even and in the inclusive range of 6 to 20, print Weird\n",
    "\n",
    "If n is even and greater than 20 , print Not Weird\n",
    "\n",
    "- Input Format\n",
    "\n",
    "A single line containing a positive integer,n.\n",
    "\n",
    "- Constraints\n",
    "\n",
    "1 <= n <= 100\n",
    "\n",
    "- Output Format\n",
    "\n",
    "Print \"Weird\" if the number is weird. Otherwise, print \"Not Weird\".\n",
    "\n",
    "- Sample Input 0\n",
    "\n",
    "3\n",
    "\n",
    "- Sample Output 0\n",
    "\n",
    "Weird\n",
    "\n",
    "- Explanation 0\n",
    "\n",
    "n = 3\n",
    "n is odd and odd numbers are weird, so print \"Weird\".\n",
    "\n",
    "- Sample Input 1\n",
    "\n",
    "24\n",
    "\n",
    "- Sample Output 1\n",
    "\n",
    "Not Weird\n",
    "\n",
    "- Explanation 1\n",
    "\n",
    "n = 24\n",
    "\n",
    "n and is even, so it is \"not weird\"."
   ]
  },
  {
   "cell_type": "markdown",
   "metadata": {},
   "source": [
    "### Solution "
   ]
  },
  {
   "cell_type": "code",
   "execution_count": 3,
   "metadata": {},
   "outputs": [
    {
     "name": "stdout",
     "output_type": "stream",
     "text": [
      "3\n",
      "Weird\n"
     ]
    }
   ],
   "source": [
    "n = int(input())\n",
    "if n % 2 == 0 and 2 <= n <= 5:\n",
    "    print(\"Not Weird\")\n",
    "elif n % 2 == 0 and 6 <= n <= 20:\n",
    "    print(\"Weird\")\n",
    "elif n % 2 == 0 and n > 20:\n",
    "    print(\"Not Weird\")\n",
    "else:\n",
    "    print(\"Weird\")"
   ]
  },
  {
   "cell_type": "markdown",
   "metadata": {},
   "source": [
    "# 3- Arithmetic Operators"
   ]
  },
  {
   "cell_type": "markdown",
   "metadata": {},
   "source": [
    "### Description"
   ]
  },
  {
   "cell_type": "markdown",
   "metadata": {},
   "source": [
    "- Task\n",
    "The provided code stub reads two integers from STDIN, a and b. Add code to print three lines where\n",
    "\n",
    "    1- The first line contains the sum of the two numbers.\n",
    "    \n",
    "    2- The second line contains the difference of the two numbers (first - second).\n",
    "    \n",
    "    3- The third line contains the product of the two numbers.\n",
    "    \n",
    "\n",
    "- Example\n",
    "\n",
    "a = 3\n",
    "\n",
    "b = 5\n",
    "\n",
    "- Print the following:\n",
    "\n",
    "8\n",
    "\n",
    "-2\n",
    "\n",
    "15\n",
    "\n",
    "- Input Format\n",
    "\n",
    "The first line contains the first integer,a.\n",
    "\n",
    "The second line contains the second integer,b.\n",
    "\n",
    "- Constraints\n",
    "\n",
    "1 <= a <= 10^10\n",
    "\n",
    "1 <= b <= 10^10\n",
    "\n",
    "\n",
    "- Output Format\n",
    "\n",
    "Print the three lines as explained above.\n",
    "\n",
    "- Sample Input 0\n",
    "\n",
    "3\n",
    "\n",
    "2\n",
    "\n",
    "- Sample Output 0\n",
    "\n",
    "5\n",
    "\n",
    "1\n",
    "\n",
    "6\n",
    "\n",
    "- Explanation 0\n",
    "\n",
    "3 + 2 = 5\n",
    "\n",
    "3 - 2 = 1\n",
    "\n",
    "3 * 2 = 6"
   ]
  },
  {
   "cell_type": "markdown",
   "metadata": {},
   "source": [
    "### Solution "
   ]
  },
  {
   "cell_type": "code",
   "execution_count": 4,
   "metadata": {},
   "outputs": [
    {
     "name": "stdout",
     "output_type": "stream",
     "text": [
      "15\n",
      "2\n",
      "17\n",
      "13\n",
      "30\n"
     ]
    }
   ],
   "source": [
    "a = int(input())\n",
    "b = int(input())\n",
    "print(a + b)\n",
    "print(a - b)\n",
    "print(a * b)"
   ]
  },
  {
   "cell_type": "markdown",
   "metadata": {},
   "source": [
    "# 4- Python: Division"
   ]
  },
  {
   "cell_type": "markdown",
   "metadata": {},
   "source": [
    "### Description"
   ]
  },
  {
   "cell_type": "markdown",
   "metadata": {},
   "source": [
    "- Task\n",
    "\n",
    "The provided code stub reads two integers, a and b , from STDIN.\n",
    "\n",
    "Add logic to print two lines. The first line should contain the result of integer division,\n",
    "a // b . The second line should contain the result of float division, a/b.\n",
    "\n",
    "No rounding or formatting is necessary.\n",
    "\n",
    "- Example\n",
    "\n",
    "a = 3\n",
    "\n",
    "b = 5\n",
    "\n",
    "The result of the integer division 3 // 5 = 0.\n",
    "\n",
    "The result of the float division is 3 / 5 = 0.6.\n",
    "\n",
    "Print:\n",
    "\n",
    "0\n",
    "\n",
    "0.6\n",
    "\n",
    "- Input Format\n",
    "\n",
    "The first line contains the first integer,a.\n",
    "\n",
    "The second line contains the second integer,b.\n",
    "\n",
    "- Output Format\n",
    "\n",
    "Print the two lines as described above.\n",
    "\n",
    "- Sample Input 0\n",
    "\n",
    "4\n",
    "\n",
    "3\n",
    "\n",
    "- Sample Output 0\n",
    "\n",
    "1\n",
    "\n",
    "1.33333333333\n",
    "\n"
   ]
  },
  {
   "cell_type": "markdown",
   "metadata": {},
   "source": [
    "### Solution"
   ]
  },
  {
   "cell_type": "code",
   "execution_count": 5,
   "metadata": {},
   "outputs": [
    {
     "name": "stdout",
     "output_type": "stream",
     "text": [
      "4\n",
      "3\n",
      "1\n",
      "1.3333333333333333\n"
     ]
    }
   ],
   "source": [
    "a = int(input())\n",
    "b = int(input())\n",
    "print(a // b)\n",
    "print(a / b)"
   ]
  },
  {
   "cell_type": "markdown",
   "metadata": {},
   "source": [
    "# 5- Loops"
   ]
  },
  {
   "cell_type": "markdown",
   "metadata": {},
   "source": [
    "### Description"
   ]
  },
  {
   "cell_type": "markdown",
   "metadata": {},
   "source": [
    "- Task\n",
    "\n",
    "The provided code stub reads and integer,n , from STDIN. For all non-negative integers i < n, print i^2.\n",
    "\n",
    "- Example\n",
    "\n",
    "n = 3\n",
    "\n",
    "The list of non-negative integers that are less than n = 3 is [0, 1, 2] . Print the square of each number on a separate line.\n",
    "\n",
    "0\n",
    "\n",
    "1\n",
    "\n",
    "4\n",
    "\n",
    "- Input Format\n",
    "\n",
    "The first and only line contains the integer,n.\n",
    "\n",
    "- Constraints\n",
    " \n",
    "1 <= n <= 20\n",
    "\n",
    "- Output Format\n",
    "\n",
    "Print n lines, one corresponding to each i.\n",
    "\n",
    "- Sample Input 0\n",
    "\n",
    "5\n",
    "\n",
    "- Sample Output 0\n",
    "\n",
    "0\n",
    "\n",
    "1\n",
    "\n",
    "4\n",
    "\n",
    "9\n",
    "\n",
    "16\n",
    "\n"
   ]
  },
  {
   "cell_type": "markdown",
   "metadata": {},
   "source": [
    "### Solution"
   ]
  },
  {
   "cell_type": "code",
   "execution_count": 2,
   "metadata": {},
   "outputs": [
    {
     "name": "stdout",
     "output_type": "stream",
     "text": [
      "3\n",
      "0\n",
      "1\n",
      "4\n"
     ]
    }
   ],
   "source": [
    "n = int(input())\n",
    "for i in range(n):\n",
    "    print(i ** 2)"
   ]
  },
  {
   "cell_type": "markdown",
   "metadata": {},
   "source": [
    "# 6- String Split and Join"
   ]
  },
  {
   "cell_type": "markdown",
   "metadata": {},
   "source": [
    "### Description"
   ]
  },
  {
   "cell_type": "markdown",
   "metadata": {},
   "source": [
    "In Python, a string can be split on a delimiter.\n",
    "\n",
    "Example:\n",
    "\n",
    ">>> a = \"this is a string\"\n",
    ">>> a = a.split(\" \") # a is converted to a list of strings. \n",
    ">>> print a\n",
    "['this', 'is', 'a', 'string']\n",
    "\n",
    "Joining a string is simple:\n",
    "\n",
    ">>> a = \"-\".join(a)\n",
    ">>> print a\n",
    "this-is-a-string \n",
    "\n",
    "- Task\n",
    "\n",
    "You are given a string. Split the string on a \" \" (space) delimiter and join using a - hyphen.\n",
    "\n",
    "Function Description\n",
    "\n",
    "Complete the split_and_join function in the editor below.\n",
    "\n",
    "- split_and_join has the following parameters:\n",
    "\n",
    "string line: a string of space-separated words\n",
    "\n",
    "- Returns\n",
    "\n",
    "string: the resulting string\n",
    "\n",
    "- Input Format\n",
    "\n",
    "The one line contains a string consisting of space separated words.\n",
    "\n",
    "- Sample Input\n",
    "\n",
    "this is a string   \n",
    "\n",
    "- Sample Output\n",
    "\n",
    "this-is-a-string\n"
   ]
  },
  {
   "cell_type": "markdown",
   "metadata": {},
   "source": [
    "### Solution"
   ]
  },
  {
   "cell_type": "code",
   "execution_count": 5,
   "metadata": {},
   "outputs": [],
   "source": [
    "def split_and_join(line):\n",
    "    # write your code here\n",
    "    line = line.split(\" \")\n",
    "    line = \"-\".join(line)\n",
    "    return line"
   ]
  },
  {
   "cell_type": "markdown",
   "metadata": {},
   "source": [
    "# 7- Print Function"
   ]
  },
  {
   "cell_type": "markdown",
   "metadata": {},
   "source": [
    "### Description"
   ]
  },
  {
   "cell_type": "markdown",
   "metadata": {},
   "source": [
    "The included code stub will read an integer,n , from STDIN.\n",
    "\n",
    "Without using any string methods, try to print the following:\n",
    "123...n\n",
    "\n",
    "Note that \"...\" represents the consecutive values in between.\n",
    "\n",
    "- Example\n",
    "\n",
    "n = 5\n",
    "\n",
    "Print the string 12345.\n",
    "\n",
    "- Input Format\n",
    "\n",
    "The first line contains an integer n.\n",
    "\n",
    "- Constraints\n",
    "\n",
    "1 <= n <= 150\n",
    "\n",
    "- Output Format\n",
    "\n",
    "Print the list of integers from 1 through n as a string, without spaces.\n",
    "\n",
    "- Sample Input 0\n",
    "\n",
    "3\n",
    "\n",
    "- Sample Output 0\n",
    "\n",
    "123\n",
    "\n"
   ]
  },
  {
   "cell_type": "markdown",
   "metadata": {},
   "source": [
    "### Solution"
   ]
  },
  {
   "cell_type": "code",
   "execution_count": 3,
   "metadata": {},
   "outputs": [
    {
     "name": "stdout",
     "output_type": "stream",
     "text": [
      "4\n",
      "1234"
     ]
    }
   ],
   "source": [
    "n = int(input())\n",
    "for i in range(n):\n",
    "    print(i+1, end=\"\")"
   ]
  },
  {
   "cell_type": "markdown",
   "metadata": {},
   "source": [
    "# 8- sWAP cASE"
   ]
  },
  {
   "cell_type": "markdown",
   "metadata": {},
   "source": [
    "### Description"
   ]
  },
  {
   "cell_type": "markdown",
   "metadata": {},
   "source": [
    "- For Example:\n",
    "\n",
    "Www.HackerRank.com → wWW.hACKERrANK.COM\n",
    "Pythonist 2 → pYTHONIST 2  \n",
    "\n",
    "- Function Description\n",
    "\n",
    "Complete the swap_case function in the editor below.\n",
    "\n",
    "swap_case has the following parameters:\n",
    "\n",
    "    string s: the string to modify\n",
    "\n",
    "Returns\n",
    "\n",
    "    string: the modified string\n",
    "\n",
    "- Input Format\n",
    "\n",
    "A single line containing a string s.\n",
    "\n",
    "- Constraints\n",
    "\n",
    "0 < len(s) <= 1000\n",
    "\n",
    "- Sample Input 0\n",
    "\n",
    "HackerRank.com presents \"Pythonist 2\".\n",
    "\n",
    "- Sample Output 0\n",
    "\n",
    "hACKERrANK.COM PRESENTS \"pYTHONIST 2\".\n",
    "\n"
   ]
  },
  {
   "cell_type": "markdown",
   "metadata": {},
   "source": [
    "### Solution"
   ]
  },
  {
   "cell_type": "code",
   "execution_count": 6,
   "metadata": {},
   "outputs": [],
   "source": [
    "def swap_case(s):\n",
    "    s = s.swapcase()\n",
    "    return s"
   ]
  },
  {
   "cell_type": "markdown",
   "metadata": {},
   "source": [
    "# 8- What's Your Name?"
   ]
  },
  {
   "cell_type": "markdown",
   "metadata": {},
   "source": [
    "### Description"
   ]
  },
  {
   "cell_type": "markdown",
   "metadata": {},
   "source": [
    "You are given the firstname and lastname of a person on two different lines. Your task is to read them and print the following:\n",
    "\n",
    "    Hello firstname lastname! You just delved into python.\n",
    "\n",
    "- Function Description\n",
    "\n",
    "Complete the print_full_name function in the editor below.\n",
    "\n",
    "print_full_name has the following parameters:\n",
    "\n",
    "    string first: the first name\n",
    "    string last: the last name\n",
    "\n",
    "- Prints\n",
    "\n",
    "    string: 'Hello Firstname Lastname! You just delved into python' where Firstname and lastname are replaced with and.\n",
    "\n",
    "- Input Format\n",
    "\n",
    "The first line contains the first name, and the second line contains the last name.\n",
    "\n",
    "- Constraints\n",
    "\n",
    "The length of the first and last names are each ≤ 10.\n",
    "\n",
    "- Sample Input 0\n",
    "\n",
    "Ross\n",
    "\n",
    "Taylor\n",
    "\n",
    "- Sample Output 0\n",
    "\n",
    "Hello Ross Taylor! You just delved into python.\n",
    "\n",
    "- Explanation 0\n",
    "\n",
    "The input read by the program is stored as a string data type. A string is a collection of characters."
   ]
  },
  {
   "cell_type": "code",
   "execution_count": 1,
   "metadata": {},
   "outputs": [],
   "source": [
    "def print_full_name(first, last):\n",
    "    # Write your code here\n",
    "    print(f\"Hello {first} {last}! You just delved into python.\")\n",
    "    return first, last"
   ]
  },
  {
   "cell_type": "markdown",
   "metadata": {},
   "source": [
    "# 12- Lists"
   ]
  },
  {
   "cell_type": "markdown",
   "metadata": {},
   "source": [
    "### Description"
   ]
  },
  {
   "cell_type": "markdown",
   "metadata": {},
   "source": [
    "Consider a list (list = []). You can perform the following commands:\n",
    "\n",
    "1- insert i e: Insert integer e at position i.\n",
    "2- print: Print the list.\n",
    "3- remove e: Delete the first occurrence of integer e.\n",
    "4- append e: Insert integer e at the end of the list.\n",
    "5- sort: Sort the list.\n",
    "6- pop: Pop the last element from the list.\n",
    "7- reverse: Reverse the list.\n",
    "\n",
    "Initialize your list and read in the value of n followed by n lines of commands where each command will be of the 7 types listed above. Iterate through each command in order and perform the corresponding operation on your list.\n",
    "\n",
    "Example: \n",
    "\n",
    "N = 4\n",
    "append 1\n",
    "append 2\n",
    "insert 3 1\n",
    "\n",
    "Append 1 : Append 1 to the list, arr[1]\n",
    "Append 2 : Append 2 to the list, arr[1,2]\n",
    "Insert 3 1 : Insert 3 at index 1 , arr[1,3,2]\n",
    "\n",
    "print : Print the array.\n",
    "\n",
    "- Output:\n",
    "\n",
    "[1, 3, 2]\n",
    "\n",
    "- Input Format\n",
    "\n",
    "The first line contains an integer,n , denoting the number of commands.\n",
    "\n",
    "Each line  i of the n subsequent lines contains one of the commands described above.\n",
    "\n",
    "- Constraints\n",
    "\n",
    "The elements added to the list must be integers.\n",
    "\n",
    "- Output Format\n",
    "\n",
    "For each command of type print, print the list on a new line.\n",
    "\n",
    "- Sample Input 0\n",
    "\n",
    "12\n",
    "\n",
    "insert 0 5\n",
    "\n",
    "insert 1 10\n",
    "\n",
    "insert 0 6\n",
    "\n",
    "print\n",
    "\n",
    "remove 6\n",
    "\n",
    "append 9\n",
    "\n",
    "append 1\n",
    "\n",
    "sort\n",
    "\n",
    "print\n",
    "\n",
    "pop\n",
    "\n",
    "reverse\n",
    "\n",
    "print\n",
    "\n",
    "- Sample Output 0\n",
    "\n",
    "[6, 5, 10]\n",
    "\n",
    "[1, 5, 9, 10]\n",
    "\n",
    "[9, 5, 1]"
   ]
  },
  {
   "cell_type": "markdown",
   "metadata": {},
   "source": [
    "### Solution"
   ]
  },
  {
   "cell_type": "code",
   "execution_count": 1,
   "metadata": {},
   "outputs": [
    {
     "name": "stdout",
     "output_type": "stream",
     "text": [
      "3\n",
      "insert 1 2\n",
      "append 2\n",
      "append 3\n"
     ]
    }
   ],
   "source": [
    "N = int(input())\n",
    "l=[]\n",
    "for i in range(N):\n",
    "    n = input().strip().split(\" \")\n",
    "    if n[0]==\"insert\":\n",
    "        l.insert(int(n[1]),int(n[2]))\n",
    "    elif n[0]==\"remove\":\n",
    "        l.remove(int(n[1]))\n",
    "    elif n[0]==\"pop\":\n",
    "        l.pop()\n",
    "    elif n[0]==\"append\":\n",
    "        l.append(int(n[1]))\n",
    "    elif n[0]==\"sort\":\n",
    "        l.sort()\n",
    "    elif n[0]==\"reverse\":\n",
    "        l.reverse()\n",
    "    else:\n",
    "        print(l)"
   ]
  },
  {
   "cell_type": "markdown",
   "metadata": {},
   "source": [
    "# 13- Introduction to Sets"
   ]
  },
  {
   "cell_type": "markdown",
   "metadata": {},
   "source": [
    "### Description"
   ]
  },
  {
   "cell_type": "markdown",
   "metadata": {},
   "source": [
    "### set is an unordered collection of elements without duplicate entries. When printed, iterated or converted into a sequence, its elements will appear in an arbitrary order.\n",
    "\n",
    "__Example__\n",
    "\n",
    "print set()\n",
    "\n",
    "set([])\n",
    "\n",
    "\n",
    "print set('HackerRank')\n",
    "\n",
    "set(['a', 'c', 'e', 'H', 'k', 'n', 'r', 'R'])\n",
    "\n",
    "\n",
    "print set([1,2,1,2,3,4,5,6,0,9,12,22,3])\n",
    "\n",
    "set([0, 1, 2, 3, 4, 5, 6, 9, 12, 22])\n",
    "\n",
    "\n",
    "print set((1,2,3,4,5,5))\n",
    "\n",
    "set([1, 2, 3, 4, 5])\n",
    "\n",
    "\n",
    "print set(set(['H','a','c','k','e','r','r','a','n','k']))\n",
    "\n",
    "set(['a', 'c', 'r', 'e', 'H', 'k', 'n'])\n",
    "\n",
    "\n",
    "print set({'Hacker' : 'DOSHI', 'Rank' : 616 })\n",
    "\n",
    "set(['Hacker', 'Rank'])\n",
    "\n",
    "\n",
    "print set(enumerate(['H','a','c','k','e','r','r','a','n','k']))\n",
    "\n",
    "set([(6, 'r'), (7, 'a'), (3, 'k'), (4, 'e'), (5, 'r'), (9, 'k'), (2, 'c'), (0, 'H'), (1, 'a'), (8, 'n')])\n",
    "\n",
    "\n",
    "Basically, sets are used for membership testing and eliminating duplicate entries.\n",
    "\n",
    "__Task__\n",
    "\n",
    "Now, let's use our knowledge of sets and help Mickey.\n",
    "\n",
    "Ms. Gabriel Williams is a botany professor at District College. One day, she asked her student Mickey to compute the average of all the plants with distinct heights in her greenhouse.\n",
    "\n",
    "__Formula used:__\n",
    "\n",
    "   Average =  $\\frac{Sum of distinct heights}{Total number of distinct heights}$\n",
    "\n",
    "__Function Description__\n",
    "\n",
    "Complete the average function in the editor below.\n",
    "\n",
    "average has the following parameters:\n",
    "\n",
    "    int arr: an array of integers\n",
    "\n",
    "__Returns__\n",
    "\n",
    "    float: the resulting float value rounded to 3 places after the decimal\n",
    "\n",
    "__Input Format__\n",
    "\n",
    "The first line contains the integer,N , the size of arr.\n",
    "\n",
    "The second line contains N the space-separated integers, arr[i].\n",
    "\n",
    "__Constraints__\n",
    "\n",
    "0 < N <= 100\n",
    "\n",
    "__Sample Input\n",
    "\n",
    "STDIN                                       Function\n",
    "-----                                       --------\n",
    "10                                          arr[] size N = 10\n",
    "\n",
    "161 182 161 154 176 170 167 171 170 174     arr = [161, 181, ..., 174]\n",
    "\n",
    "__Sample Output__\n",
    "\n",
    "169.375\n",
    "\n",
    "__Explanation__\n",
    "\n",
    "Here, set([154,161,167,170,171,174,176,182])is the set containing the distinct heights. Using the sum() and len() functions, we can compute the average.\n",
    "\n",
    "   Average =  $\\frac{1355}{8}$ = 169.375\n",
    "\n",
    "\n"
   ]
  },
  {
   "cell_type": "markdown",
   "metadata": {},
   "source": [
    "### Solution"
   ]
  },
  {
   "cell_type": "code",
   "execution_count": 1,
   "metadata": {},
   "outputs": [
    {
     "name": "stdout",
     "output_type": "stream",
     "text": [
      "7\n",
      "1 2 3 4 5 6 7\n",
      "4.0\n"
     ]
    }
   ],
   "source": [
    "def average(array):\n",
    "    # your code goes here\n",
    "    avre = sum(set(arr)) / len(set(arr))\n",
    "    return avre\n",
    "\n",
    "if __name__ == '__main__':\n",
    "    n = int(input())\n",
    "    arr = list(map(int, input().split()))\n",
    "    result = average(arr)\n",
    "    print(result)"
   ]
  },
  {
   "cell_type": "markdown",
   "metadata": {},
   "source": [
    "# 14- Set.add()"
   ]
  },
  {
   "cell_type": "markdown",
   "metadata": {},
   "source": [
    "### Description"
   ]
  },
  {
   "cell_type": "markdown",
   "metadata": {},
   "source": [
    "__Task__\n",
    "\n",
    "Apply your knowledge of the .add() operation to help your friend Rupal.\n",
    "\n",
    "Rupal has a huge collection of country stamps. She decided to count the total number of distinct country stamps in her collection. She asked for your help. You pick the stamps one by one from a stack of __N__ country stamps.\n",
    "\n",
    "Find the total number of distinct country stamps.\n",
    "\n",
    "__Input Format__\n",
    "\n",
    "The first line contains an integer __N__, the total number of country stamps.\n",
    "The next __N__ lines contains the name of the country where the stamp is from.\n",
    "\n",
    "__Constraints__\n",
    "\n",
    "__0 < N < 1000__\n",
    "\n",
    "__Output Format__\n",
    "\n",
    "Output the total number of distinct country stamps on a single line.\n",
    "\n",
    "__Sample Input__\n",
    "\n",
    "7\n",
    "\n",
    "UK\n",
    "\n",
    "China\n",
    "\n",
    "USA\n",
    "\n",
    "France\n",
    "\n",
    "New Zealand\n",
    "\n",
    "UK\n",
    "\n",
    "France \n",
    "\n",
    "__Sample Output__\n",
    "\n",
    "5\n",
    "\n",
    "__Explanation__\n",
    "\n",
    "UK and France repeat twice. Hence, the total number of distinct country stamps is __5__ (five)."
   ]
  },
  {
   "cell_type": "markdown",
   "metadata": {},
   "source": [
    "### Solution"
   ]
  },
  {
   "cell_type": "code",
   "execution_count": null,
   "metadata": {},
   "outputs": [],
   "source": [
    "n = input(4)\n",
    "s = set()\n",
    "for i in range(int(n)):\n",
    "    s.add(input())\n",
    "print(len(s))"
   ]
  },
  {
   "cell_type": "markdown",
   "metadata": {},
   "source": [
    "# 15- Set .symmetric_difference() Operation\n"
   ]
  },
  {
   "cell_type": "markdown",
   "metadata": {},
   "source": [
    "### Description"
   ]
  },
  {
   "cell_type": "markdown",
   "metadata": {},
   "source": [
    "__Task__\n",
    "\n",
    "- Students of District College have subscriptions to English and French newspapers. Some students have subscribed to English only, some have subscribed to French only, and some have subscribed to both newspapers.\n",
    "\n",
    "- You are given two sets of student roll numbers. One set has subscribed to the English newspaper, and one set has subscribed to the French newspaper. Your task is to find the total number of students who have subscribed to either the English or the French newspaper but not both.\n",
    "\n",
    "__Input Format__\n",
    "\n",
    "- The first line contains the number of students who have subscribed to the English newspaper.\n",
    "- The second line contains the space separated list of student roll numbers who have subscribed to the English newspaper.\n",
    "- The third line contains the number of students who have subscribed to the French newspaper.\n",
    "- The fourth line contains the space separated list of student roll numbers who have subscribed to the French newspaper.\n",
    "\n",
    "__Constraints__\n",
    "\n",
    "- 0 < Total Number of students in college < 1000\n",
    "\n",
    "__Output Format__\n",
    "\n",
    "Output total number of students who have subscriptions to the English or the French newspaper but not both.\n",
    "\n",
    "__Sample Input__\n",
    "\n",
    "9\n",
    "\n",
    "1 2 3 4 5 6 7 8 9\n",
    "\n",
    "9\n",
    "\n",
    "10 1 2 3 11 21 55 6 8\n",
    "\n",
    "__Sample Output__\n",
    "\n",
    "8\n",
    "\n",
    "__Explanation__\n",
    "\n",
    "The roll numbers of students who have subscriptions to English or French newspapers but not both are:\n",
    "__4, 5, 7, 9, 10, 11, 21 and 55.__\n",
    "\n",
    "Hence, the total is __8__ students."
   ]
  },
  {
   "cell_type": "markdown",
   "metadata": {},
   "source": [
    "### Solution"
   ]
  },
  {
   "cell_type": "code",
   "execution_count": 2,
   "metadata": {},
   "outputs": [
    {
     "name": "stdout",
     "output_type": "stream",
     "text": [
      "4\n",
      "1 2 3 4\n",
      "5\n",
      "1 2 3 4 5\n",
      "1\n"
     ]
    }
   ],
   "source": [
    "n = int(input())\n",
    "eng_students = input().split()\n",
    "m = int(input())\n",
    "fre_students = input().split()\n",
    "symm = set(eng_students) ^ set(fre_students)\n",
    "print(len(symm))"
   ]
  },
  {
   "cell_type": "markdown",
   "metadata": {},
   "source": [
    "# 16- Check Subset"
   ]
  },
  {
   "cell_type": "markdown",
   "metadata": {},
   "source": [
    "### Description"
   ]
  },
  {
   "cell_type": "markdown",
   "metadata": {},
   "source": [
    "You are given two sets, __A__ and __B__.\n",
    "Your job is to find whether set __A__ is a subset of set __B__.\n",
    "\n",
    "If set __A__ is subset of set __B__, print __True__.\n",
    "If set __A__ is not a subset of set __B__, print __False__.\n",
    "\n",
    "__Input Format__\n",
    "\n",
    "- The first line will contain the number of test cases, __T__.\n",
    "- The first line of each test case contains the number of elements in set __A__.\n",
    "- The second line of each test case contains the space separated elements of set __A__.\n",
    "- The third line of each test case contains the number of elements in set __B__.\n",
    "- The fourth line of each test case contains the space separated elements of set __B__.\n",
    "\n",
    "__Constraints__\n",
    "\n",
    "- 0 < T < 21\n",
    "- 0 < Number of elements in every set < 1001\n",
    "\n",
    "__Output Format__\n",
    "\n",
    "- Output __True__ or __False__ for each test case on separate lines.\n",
    "\n",
    "__Sample Input__\n",
    "\n",
    "3\n",
    "\n",
    "5\n",
    "\n",
    "1 2 3 5 6\n",
    "\n",
    "9\n",
    "\n",
    "9 8 5 6 3 2 1 4 7\n",
    "\n",
    "1\n",
    "\n",
    "2\n",
    "\n",
    "5\n",
    "\n",
    "3 6 5 4 1\n",
    "\n",
    "7\n",
    "\n",
    "1 2 3 5 6 8 9\n",
    "\n",
    "3\n",
    "\n",
    "9 8 2\n",
    "\n",
    "__Sample Output__\n",
    "\n",
    "- True \n",
    "- False\n",
    "- False\n",
    "\n",
    "__Explanation__\n",
    "\n",
    "Test Case 01 Explanation\n",
    "\n",
    "Set __A__ = {1 2 3 5 6}\n",
    "\n",
    "Set __B__ = {9 8 5 6 3 2 1 4 7}\n",
    "\n",
    "All the elements of set __A__ are elements of set __B__.\n",
    "\n",
    "Hence, set __A__ is a subset of set __B__."
   ]
  },
  {
   "cell_type": "markdown",
   "metadata": {},
   "source": [
    "### Solution"
   ]
  },
  {
   "cell_type": "code",
   "execution_count": null,
   "metadata": {},
   "outputs": [
    {
     "name": "stdout",
     "output_type": "stream",
     "text": [
      "3\n",
      "5\n",
      "12356\n",
      "9\n",
      "9 8 5 6 3 2 1 4 7\n",
      "False\n"
     ]
    }
   ],
   "source": [
    "T = int(input())\n",
    "for _ in range(T):\n",
    "  N = int(input())\n",
    "  A = set(map(int, input().split()))\n",
    "  M = int(input())\n",
    "  B = set(map(int, input().split()))\n",
    "  len_1 = len(B)\n",
    "  B.update(A)\n",
    "  if len(B) == len_1:\n",
    "    print(\"True\")\n",
    "  else:\n",
    "    print(\"False\")"
   ]
  },
  {
   "cell_type": "markdown",
   "metadata": {},
   "source": [
    "# 17- Set Mutations"
   ]
  },
  {
   "cell_type": "markdown",
   "metadata": {},
   "source": [
    "### Description"
   ]
  },
  {
   "cell_type": "markdown",
   "metadata": {},
   "source": [
    "__TASK__\n",
    "\n",
    "- You are given a set __A__ and __B__ number of other sets. These __N__ number of sets have to perform some specific mutation operations on set __A__.\n",
    "\n",
    "- Your task is to execute those operations and print the sum of elements from set __A__.\n",
    "\n",
    "__Input Format__\n",
    "\n",
    "- The first line contains the number of elements in set __A__.\n",
    "- The second line contains the space separated list of elements in set __A__.\n",
    "- The third line contains integer __N__, the number of other sets.\n",
    "- The next __2*N__ lines are divided into __N__ parts containing two lines each.\n",
    "- The first line of each part contains the space separated entries of the operation name and the length of the other set.\n",
    "- The second line of each part contains space separated list of elements in the other set.\n",
    "\n",
    "- __0 < len(set(A)) < 1000__\n",
    "- __0 < len(otherSets) < 1000__\n",
    "- __0 < N < 1000__\n",
    "\n",
    "__Output Format__\n",
    "\n",
    "- Output the sum of elements in set .\n",
    "\n",
    "__Sample Input__\n",
    "\n",
    "- 16\n",
    "- 1 2 3 4 5 6 7 8 9 10 11 12 13 14 24 52\n",
    "- 4\n",
    "- intersection_update 10\n",
    "- 2 3 5 6 8 9 1 4 7 11\n",
    "- update 2\n",
    "- 55 66\n",
    "- symmetric_difference_update 5\n",
    "- 22 7 35 62 58\n",
    "- difference_update 7\n",
    "- 11 22 35 55 58 62 66\n",
    "\n",
    "__Sample Output__\n",
    "\n",
    "- 38"
   ]
  },
  {
   "cell_type": "markdown",
   "metadata": {},
   "source": [
    "### Solution"
   ]
  },
  {
   "cell_type": "markdown",
   "metadata": {},
   "source": []
  },
  {
   "cell_type": "code",
   "execution_count": null,
   "metadata": {},
   "outputs": [],
   "source": []
  }
 ],
 "metadata": {
  "kernelspec": {
   "display_name": "Python 3",
   "language": "python",
   "name": "python3"
  },
  "language_info": {
   "codemirror_mode": {
    "name": "ipython",
    "version": 3
   },
   "file_extension": ".py",
   "mimetype": "text/x-python",
   "name": "python",
   "nbconvert_exporter": "python",
   "pygments_lexer": "ipython3",
   "version": "3.8.5"
  }
 },
 "nbformat": 4,
 "nbformat_minor": 4
}
