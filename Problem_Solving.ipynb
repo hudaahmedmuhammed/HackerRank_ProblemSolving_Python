{
 "cells": [
  {
   "cell_type": "markdown",
   "metadata": {},
   "source": [
    "# 1- Say \"Hello, World!\" With Python"
   ]
  },
  {
   "cell_type": "markdown",
   "metadata": {},
   "source": [
    "### Description "
   ]
  },
  {
   "cell_type": "markdown",
   "metadata": {},
   "source": [
    "Here is a sample line of code that can be executed in Python:\n",
    "\n",
    "print(\"Hello, World!\")\n",
    "\n",
    "You can just as easily store a string as a variable and then print it to stdout:\n",
    "\n",
    "my_string = \"Hello, World!\"\n",
    "print(my_string)\n",
    "\n",
    "The above code will print Hello, World! on your screen. Try it yourself in the editor below!\n",
    "\n",
    "- Input Format\n",
    "\n",
    "You do not need to read any input in this challenge.\n",
    "\n",
    "- Output Format\n",
    "\n",
    "Print Hello, World! to stdout.\n",
    "\n",
    "- Sample Output 0\n",
    "\n",
    "## Hello, World!\n",
    "\n"
   ]
  },
  {
   "cell_type": "markdown",
   "metadata": {},
   "source": [
    "### Solution "
   ]
  },
  {
   "cell_type": "code",
   "execution_count": 1,
   "metadata": {},
   "outputs": [
    {
     "name": "stdout",
     "output_type": "stream",
     "text": [
      "Hello, World!\n"
     ]
    }
   ],
   "source": [
    "print(\"Hello, World!\")"
   ]
  },
  {
   "cell_type": "markdown",
   "metadata": {},
   "source": [
    "# 2- Python If-Else"
   ]
  },
  {
   "cell_type": "markdown",
   "metadata": {},
   "source": [
    "### Description"
   ]
  },
  {
   "cell_type": "markdown",
   "metadata": {},
   "source": [
    "- Task\n",
    "\n",
    "Given an integer,n,perform the following conditional actions:\n",
    "\n",
    "If n is odd, print Weird\n",
    "\n",
    "If n is even and in the inclusive range of 2 to 5, print Not Weird\n",
    "\n",
    "If n is even and in the inclusive range of 6 to 20, print Weird\n",
    "\n",
    "If n is even and greater than 20 , print Not Weird\n",
    "\n",
    "- Input Format\n",
    "\n",
    "A single line containing a positive integer,n.\n",
    "\n",
    "- Constraints\n",
    "\n",
    "1 <= n <= 100\n",
    "\n",
    "- Output Format\n",
    "\n",
    "Print \"Weird\" if the number is weird. Otherwise, print \"Not Weird\".\n",
    "\n",
    "- Sample Input 0\n",
    "\n",
    "3\n",
    "\n",
    "- Sample Output 0\n",
    "\n",
    "Weird\n",
    "\n",
    "- Explanation 0\n",
    "\n",
    "n = 3\n",
    "n is odd and odd numbers are weird, so print \"Weird\".\n",
    "\n",
    "- Sample Input 1\n",
    "\n",
    "24\n",
    "\n",
    "- Sample Output 1\n",
    "\n",
    "Not Weird\n",
    "\n",
    "- Explanation 1\n",
    "\n",
    "n = 24\n",
    "\n",
    "n and is even, so it is \"not weird\"."
   ]
  },
  {
   "cell_type": "markdown",
   "metadata": {},
   "source": [
    "### Solution "
   ]
  },
  {
   "cell_type": "code",
   "execution_count": 3,
   "metadata": {},
   "outputs": [
    {
     "name": "stdout",
     "output_type": "stream",
     "text": [
      "3\n",
      "Weird\n"
     ]
    }
   ],
   "source": [
    "n = int(input())\n",
    "if n % 2 == 0 and 2 <= n <= 5:\n",
    "    print(\"Not Weird\")\n",
    "elif n % 2 == 0 and 6 <= n <= 20:\n",
    "    print(\"Weird\")\n",
    "elif n % 2 == 0 and n > 20:\n",
    "    print(\"Not Weird\")\n",
    "else:\n",
    "    print(\"Weird\")"
   ]
  },
  {
   "cell_type": "markdown",
   "metadata": {},
   "source": [
    "# 3- Arithmetic Operators"
   ]
  },
  {
   "cell_type": "markdown",
   "metadata": {},
   "source": [
    "### Description"
   ]
  },
  {
   "cell_type": "markdown",
   "metadata": {},
   "source": [
    "- Task\n",
    "The provided code stub reads two integers from STDIN, a and b. Add code to print three lines where\n",
    "\n",
    "    1- The first line contains the sum of the two numbers.\n",
    "    \n",
    "    2- The second line contains the difference of the two numbers (first - second).\n",
    "    \n",
    "    3- The third line contains the product of the two numbers.\n",
    "    \n",
    "\n",
    "- Example\n",
    "\n",
    "a = 3\n",
    "\n",
    "b = 5\n",
    "\n",
    "- Print the following:\n",
    "\n",
    "8\n",
    "\n",
    "-2\n",
    "\n",
    "15\n",
    "\n",
    "- Input Format\n",
    "\n",
    "The first line contains the first integer,a.\n",
    "\n",
    "The second line contains the second integer,b.\n",
    "\n",
    "- Constraints\n",
    "\n",
    "1 <= a <= 10^10\n",
    "\n",
    "1 <= b <= 10^10\n",
    "\n",
    "\n",
    "- Output Format\n",
    "\n",
    "Print the three lines as explained above.\n",
    "\n",
    "- Sample Input 0\n",
    "\n",
    "3\n",
    "\n",
    "2\n",
    "\n",
    "- Sample Output 0\n",
    "\n",
    "5\n",
    "\n",
    "1\n",
    "\n",
    "6\n",
    "\n",
    "- Explanation 0\n",
    "\n",
    "3 + 2 = 5\n",
    "\n",
    "3 - 2 = 1\n",
    "\n",
    "3 * 2 = 6"
   ]
  },
  {
   "cell_type": "markdown",
   "metadata": {},
   "source": [
    "### Solution "
   ]
  },
  {
   "cell_type": "code",
   "execution_count": 4,
   "metadata": {},
   "outputs": [
    {
     "name": "stdout",
     "output_type": "stream",
     "text": [
      "15\n",
      "2\n",
      "17\n",
      "13\n",
      "30\n"
     ]
    }
   ],
   "source": [
    "a = int(input())\n",
    "b = int(input())\n",
    "print(a + b)\n",
    "print(a - b)\n",
    "print(a * b)"
   ]
  },
  {
   "cell_type": "markdown",
   "metadata": {},
   "source": [
    "# 4- Python: Division"
   ]
  },
  {
   "cell_type": "markdown",
   "metadata": {},
   "source": [
    "### Description"
   ]
  },
  {
   "cell_type": "markdown",
   "metadata": {},
   "source": [
    "- Task\n",
    "\n",
    "The provided code stub reads two integers, a and b , from STDIN.\n",
    "\n",
    "Add logic to print two lines. The first line should contain the result of integer division,\n",
    "a // b . The second line should contain the result of float division, a/b.\n",
    "\n",
    "No rounding or formatting is necessary.\n",
    "\n",
    "- Example\n",
    "\n",
    "a = 3\n",
    "\n",
    "b = 5\n",
    "\n",
    "The result of the integer division 3 // 5 = 0.\n",
    "\n",
    "The result of the float division is 3 / 5 = 0.6.\n",
    "\n",
    "Print:\n",
    "\n",
    "0\n",
    "\n",
    "0.6\n",
    "\n",
    "- Input Format\n",
    "\n",
    "The first line contains the first integer,a.\n",
    "\n",
    "The second line contains the second integer,b.\n",
    "\n",
    "- Output Format\n",
    "\n",
    "Print the two lines as described above.\n",
    "\n",
    "- Sample Input 0\n",
    "\n",
    "4\n",
    "\n",
    "3\n",
    "\n",
    "- Sample Output 0\n",
    "\n",
    "1\n",
    "\n",
    "1.33333333333\n",
    "\n"
   ]
  },
  {
   "cell_type": "markdown",
   "metadata": {},
   "source": [
    "### Solution"
   ]
  },
  {
   "cell_type": "code",
   "execution_count": 5,
   "metadata": {},
   "outputs": [
    {
     "name": "stdout",
     "output_type": "stream",
     "text": [
      "4\n",
      "3\n",
      "1\n",
      "1.3333333333333333\n"
     ]
    }
   ],
   "source": [
    "a = int(input())\n",
    "b = int(input())\n",
    "print(a // b)\n",
    "print(a / b)"
   ]
  },
  {
   "cell_type": "markdown",
   "metadata": {},
   "source": [
    "# 5- Loops"
   ]
  },
  {
   "cell_type": "markdown",
   "metadata": {},
   "source": [
    "### Description"
   ]
  },
  {
   "cell_type": "markdown",
   "metadata": {},
   "source": [
    "- Task\n",
    "\n",
    "The provided code stub reads and integer,n , from STDIN. For all non-negative integers i < n, print i^2.\n",
    "\n",
    "- Example\n",
    "\n",
    "n = 3\n",
    "\n",
    "The list of non-negative integers that are less than n = 3 is [0, 1, 2] . Print the square of each number on a separate line.\n",
    "\n",
    "0\n",
    "\n",
    "1\n",
    "\n",
    "4\n",
    "\n",
    "- Input Format\n",
    "\n",
    "The first and only line contains the integer,n.\n",
    "\n",
    "- Constraints\n",
    " \n",
    "1 <= n <= 20\n",
    "\n",
    "- Output Format\n",
    "\n",
    "Print n lines, one corresponding to each i.\n",
    "\n",
    "- Sample Input 0\n",
    "\n",
    "5\n",
    "\n",
    "- Sample Output 0\n",
    "\n",
    "0\n",
    "\n",
    "1\n",
    "\n",
    "4\n",
    "\n",
    "9\n",
    "\n",
    "16\n",
    "\n"
   ]
  },
  {
   "cell_type": "markdown",
   "metadata": {},
   "source": [
    "### Solution"
   ]
  },
  {
   "cell_type": "code",
   "execution_count": 2,
   "metadata": {},
   "outputs": [
    {
     "name": "stdout",
     "output_type": "stream",
     "text": [
      "3\n",
      "0\n",
      "1\n",
      "4\n"
     ]
    }
   ],
   "source": [
    "n = int(input())\n",
    "for i in range(n):\n",
    "    print(i ** 2)"
   ]
  },
  {
   "cell_type": "markdown",
   "metadata": {},
   "source": [
    "# 6- String Split and Join"
   ]
  },
  {
   "cell_type": "markdown",
   "metadata": {},
   "source": [
    "### Description"
   ]
  },
  {
   "cell_type": "markdown",
   "metadata": {},
   "source": [
    "In Python, a string can be split on a delimiter.\n",
    "\n",
    "Example:\n",
    "\n",
    ">>> a = \"this is a string\"\n",
    ">>> a = a.split(\" \") # a is converted to a list of strings. \n",
    ">>> print a\n",
    "['this', 'is', 'a', 'string']\n",
    "\n",
    "Joining a string is simple:\n",
    "\n",
    ">>> a = \"-\".join(a)\n",
    ">>> print a\n",
    "this-is-a-string \n",
    "\n",
    "- Task\n",
    "\n",
    "You are given a string. Split the string on a \" \" (space) delimiter and join using a - hyphen.\n",
    "\n",
    "Function Description\n",
    "\n",
    "Complete the split_and_join function in the editor below.\n",
    "\n",
    "- split_and_join has the following parameters:\n",
    "\n",
    "string line: a string of space-separated words\n",
    "\n",
    "- Returns\n",
    "\n",
    "string: the resulting string\n",
    "\n",
    "- Input Format\n",
    "\n",
    "The one line contains a string consisting of space separated words.\n",
    "\n",
    "- Sample Input\n",
    "\n",
    "this is a string   \n",
    "\n",
    "- Sample Output\n",
    "\n",
    "this-is-a-string\n"
   ]
  },
  {
   "cell_type": "markdown",
   "metadata": {},
   "source": [
    "### Solution"
   ]
  },
  {
   "cell_type": "code",
   "execution_count": 5,
   "metadata": {},
   "outputs": [],
   "source": [
    "def split_and_join(line):\n",
    "    # write your code here\n",
    "    line = line.split(\" \")\n",
    "    line = \"-\".join(line)\n",
    "    return line"
   ]
  }
 ],
 "metadata": {
  "kernelspec": {
   "display_name": "Python 3",
   "language": "python",
   "name": "python3"
  },
  "language_info": {
   "codemirror_mode": {
    "name": "ipython",
    "version": 3
   },
   "file_extension": ".py",
   "mimetype": "text/x-python",
   "name": "python",
   "nbconvert_exporter": "python",
   "pygments_lexer": "ipython3",
   "version": "3.8.5"
  }
 },
 "nbformat": 4,
 "nbformat_minor": 4
}
